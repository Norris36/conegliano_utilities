{
 "cells": [
  {
   "cell_type": "code",
   "execution_count": 11,
   "id": "e4b90d72",
   "metadata": {},
   "outputs": [],
   "source": [
    "from conegliano_utilities import workout\n",
    "import pandas as pd"
   ]
  },
  {
   "cell_type": "code",
   "execution_count": 12,
   "id": "b40f2585",
   "metadata": {},
   "outputs": [
    {
     "name": "stderr",
     "output_type": "stream",
     "text": [
      "Python(73088) MallocStackLogging: can't turn off malloc stack logging because it was not enabled.\n"
     ]
    }
   ],
   "source": [
    "df = pd.read_clipboard()"
   ]
  },
  {
   "cell_type": "code",
   "execution_count": 15,
   "id": "e69fcde1",
   "metadata": {},
   "outputs": [],
   "source": [
    "df.rename(columns = {'Navn':'name', 'Område':'area', 'Sværhedsgrad': 'diffucility'}, inplace=True)"
   ]
  },
  {
   "cell_type": "code",
   "execution_count": 16,
   "id": "bc21b790",
   "metadata": {},
   "outputs": [],
   "source": [
    "df.to_csv('/Users/jensbay/Dropbox/#1 Files/Life/GitHub/jensbay_utilities/data/workout_data.csv', index = False)"
   ]
  },
  {
   "cell_type": "code",
   "execution_count": null,
   "id": "cf4fbfb1",
   "metadata": {},
   "outputs": [],
   "source": []
  }
 ],
 "metadata": {
  "kernelspec": {
   "display_name": "Python 3",
   "language": "python",
   "name": "python3"
  },
  "language_info": {
   "codemirror_mode": {
    "name": "ipython",
    "version": 3
   },
   "file_extension": ".py",
   "mimetype": "text/x-python",
   "name": "python",
   "nbconvert_exporter": "python",
   "pygments_lexer": "ipython3",
   "version": "3.12.1"
  }
 },
 "nbformat": 4,
 "nbformat_minor": 5
}
