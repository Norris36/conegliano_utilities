{
 "cells": [
  {
   "cell_type": "code",
   "execution_count": null,
   "id": "e4b90d72",
   "metadata": {},
   "outputs": [],
   "source": []
  },
  {
   "cell_type": "code",
   "execution_count": 2,
   "id": "b40f2585",
   "metadata": {},
   "outputs": [],
   "source": [
    "import sys\n",
    "import os\n",
    "\n",
    "sys.path.insert(0, '/Users/jensbay/Dropbox/#1 Files/Life/GitHub/jensbay_utilities')"
   ]
  },
  {
   "cell_type": "code",
   "execution_count": 9,
   "id": "e69fcde1",
   "metadata": {},
   "outputs": [],
   "source": [
    "from conegliano_utilities import data_utils"
   ]
  }
 ],
 "metadata": {
  "kernelspec": {
   "display_name": "Python 3",
   "language": "python",
   "name": "python3"
  },
  "language_info": {
   "codemirror_mode": {
    "name": "ipython",
    "version": 3
   },
   "file_extension": ".py",
   "mimetype": "text/x-python",
   "name": "python",
   "nbconvert_exporter": "python",
   "pygments_lexer": "ipython3",
   "version": "3.12.1"
  }
 },
 "nbformat": 4,
 "nbformat_minor": 5
}
