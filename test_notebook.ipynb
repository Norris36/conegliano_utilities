{
 "cells": [
  {
   "cell_type": "code",
   "execution_count": null,
   "id": "e4b90d72",
   "metadata": {},
   "outputs": [
    {
     "name": "stderr",
     "output_type": "stream",
     "text": [
      "/Library/Frameworks/Python.framework/Versions/3.12/lib/python3.12/site-packages/urllib3/connectionpool.py:1099: InsecureRequestWarning: Unverified HTTPS request is being made to host 'raw.githubusercontent.com'. Adding certificate verification is strongly advised. See: https://urllib3.readthedocs.io/en/latest/advanced-usage.html#tls-warnings\n",
      "  warnings.warn(\n"
     ]
    },
    {
     "data": {
      "text/html": [
       "<div>\n",
       "<style scoped>\n",
       "    .dataframe tbody tr th:only-of-type {\n",
       "        vertical-align: middle;\n",
       "    }\n",
       "\n",
       "    .dataframe tbody tr th {\n",
       "        vertical-align: top;\n",
       "    }\n",
       "\n",
       "    .dataframe thead th {\n",
       "        text-align: right;\n",
       "    }\n",
       "</style>\n",
       "<table border=\"1\" class=\"dataframe\">\n",
       "  <thead>\n",
       "    <tr style=\"text-align: right;\">\n",
       "      <th></th>\n",
       "      <th>information</th>\n",
       "      <th>3</th>\n",
       "      <th>4</th>\n",
       "      <th>5</th>\n",
       "    </tr>\n",
       "  </thead>\n",
       "  <tbody>\n",
       "    <tr>\n",
       "      <th>0</th>\n",
       "      <td>mean</td>\n",
       "      <td>2.636364</td>\n",
       "      <td>3.909091</td>\n",
       "      <td>3.454545</td>\n",
       "    </tr>\n",
       "    <tr>\n",
       "      <th>1</th>\n",
       "      <td>Legs</td>\n",
       "      <td>Ankle Stretch</td>\n",
       "      <td>Pull-Up</td>\n",
       "      <td>Curtsy Lunges</td>\n",
       "    </tr>\n",
       "    <tr>\n",
       "      <th>2</th>\n",
       "      <td>Back</td>\n",
       "      <td>Hollow Body Hold</td>\n",
       "      <td>Reverse Plank to Push-Up</td>\n",
       "      <td>Pull-Up</td>\n",
       "    </tr>\n",
       "    <tr>\n",
       "      <th>3</th>\n",
       "      <td>Abs</td>\n",
       "      <td>Curtsy Lunges</td>\n",
       "      <td>V-Ups</td>\n",
       "      <td>Diamond Kicks</td>\n",
       "    </tr>\n",
       "    <tr>\n",
       "      <th>4</th>\n",
       "      <td>Upper</td>\n",
       "      <td>Legs Up Wall Sit</td>\n",
       "      <td>Plank to Push-Up</td>\n",
       "      <td>Spider-Man Push-Ups</td>\n",
       "    </tr>\n",
       "    <tr>\n",
       "      <th>5</th>\n",
       "      <td>Abs</td>\n",
       "      <td>Reverse Plank to Push-Up</td>\n",
       "      <td>Plank to Side Plank</td>\n",
       "      <td>V-Ups</td>\n",
       "    </tr>\n",
       "    <tr>\n",
       "      <th>6</th>\n",
       "      <td>Cardio</td>\n",
       "      <td>Side Lunges</td>\n",
       "      <td>Inverted Row</td>\n",
       "      <td>Plank x Knee to Elbow</td>\n",
       "    </tr>\n",
       "    <tr>\n",
       "      <th>7</th>\n",
       "      <td>Abs</td>\n",
       "      <td>Inchworm</td>\n",
       "      <td>Eccentric Pistol Squats</td>\n",
       "      <td>Plank x Diagonal</td>\n",
       "    </tr>\n",
       "    <tr>\n",
       "      <th>8</th>\n",
       "      <td>Abs</td>\n",
       "      <td>High Knees</td>\n",
       "      <td>Grass Squats</td>\n",
       "      <td>Flutter Kicks</td>\n",
       "    </tr>\n",
       "    <tr>\n",
       "      <th>9</th>\n",
       "      <td>Legs</td>\n",
       "      <td>Single-Leg Glute Bridge</td>\n",
       "      <td>Pike Push-Ups</td>\n",
       "      <td>Skater Kicks</td>\n",
       "    </tr>\n",
       "    <tr>\n",
       "      <th>10</th>\n",
       "      <td>Back</td>\n",
       "      <td>Band Pull Ups</td>\n",
       "      <td>Banded Pull-Aparts</td>\n",
       "      <td>Band Pull Ups</td>\n",
       "    </tr>\n",
       "    <tr>\n",
       "      <th>11</th>\n",
       "      <td>Legs</td>\n",
       "      <td>Push-ups</td>\n",
       "      <td>Superman x Lateral Pulls</td>\n",
       "      <td>Box Pistol Squats</td>\n",
       "    </tr>\n",
       "  </tbody>\n",
       "</table>\n",
       "</div>"
      ],
      "text/plain": [
       "   information                         3                         4  \\\n",
       "0         mean                  2.636364                  3.909091   \n",
       "1         Legs             Ankle Stretch                   Pull-Up   \n",
       "2         Back          Hollow Body Hold  Reverse Plank to Push-Up   \n",
       "3          Abs             Curtsy Lunges                     V-Ups   \n",
       "4        Upper          Legs Up Wall Sit          Plank to Push-Up   \n",
       "5          Abs  Reverse Plank to Push-Up       Plank to Side Plank   \n",
       "6       Cardio               Side Lunges              Inverted Row   \n",
       "7          Abs                  Inchworm   Eccentric Pistol Squats   \n",
       "8          Abs                High Knees              Grass Squats   \n",
       "9         Legs   Single-Leg Glute Bridge             Pike Push-Ups   \n",
       "10        Back             Band Pull Ups        Banded Pull-Aparts   \n",
       "11        Legs                  Push-ups  Superman x Lateral Pulls   \n",
       "\n",
       "                        5  \n",
       "0                3.454545  \n",
       "1           Curtsy Lunges  \n",
       "2                 Pull-Up  \n",
       "3           Diamond Kicks  \n",
       "4     Spider-Man Push-Ups  \n",
       "5                   V-Ups  \n",
       "6   Plank x Knee to Elbow  \n",
       "7        Plank x Diagonal  \n",
       "8           Flutter Kicks  \n",
       "9            Skater Kicks  \n",
       "10          Band Pull Ups  \n",
       "11      Box Pistol Squats  "
      ]
     },
     "execution_count": 1,
     "metadata": {},
     "output_type": "execute_result"
    }
   ],
   "source": [
    "from conegliano_utilities import workout\n",
    "import pandas as pd\n",
    "df = workout.load_exercise_data_from_github()\n",
    "\n",
    "workout.create_workout_from_dataframe(df, )"
   ]
  },
  {
   "cell_type": "code",
   "execution_count": 12,
   "id": "b40f2585",
   "metadata": {},
   "outputs": [
    {
     "name": "stderr",
     "output_type": "stream",
     "text": [
      "Python(73088) MallocStackLogging: can't turn off malloc stack logging because it was not enabled.\n"
     ]
    }
   ],
   "source": [
    "df = pd.read_clipboard()"
   ]
  },
  {
   "cell_type": "code",
   "execution_count": 15,
   "id": "e69fcde1",
   "metadata": {},
   "outputs": [],
   "source": [
    "df.rename(columns = {'Navn':'name', 'Område':'area', 'Sværhedsgrad': 'diffucility'}, inplace=True)"
   ]
  },
  {
   "cell_type": "code",
   "execution_count": 16,
   "id": "bc21b790",
   "metadata": {},
   "outputs": [],
   "source": [
    "df.to_csv('/Users/jensbay/Dropbox/#1 Files/Life/GitHub/jensbay_utilities/data/workout_data.csv', index = False)"
   ]
  },
  {
   "cell_type": "code",
   "execution_count": null,
   "id": "cf4fbfb1",
   "metadata": {},
   "outputs": [
    {
     "name": "stderr",
     "output_type": "stream",
     "text": [
      "/Library/Frameworks/Python.framework/Versions/3.12/lib/python3.12/site-packages/urllib3/connectionpool.py:1099: InsecureRequestWarning: Unverified HTTPS request is being made to host 'raw.githubusercontent.com'. Adding certificate verification is strongly advised. See: https://urllib3.readthedocs.io/en/latest/advanced-usage.html#tls-warnings\n",
      "  warnings.warn(\n"
     ]
    },
    {
     "ename": "ConnectionError",
     "evalue": "Failed to load exercise data from GitHub: Data missing required columns: ['exercise', 'area', 'diffucility']",
     "output_type": "error",
     "traceback": [
      "\u001b[0;31m---------------------------------------------------------------------------\u001b[0m",
      "\u001b[0;31mValueError\u001b[0m                                Traceback (most recent call last)",
      "File \u001b[0;32m~/Dropbox/#1 Files/Life/GitHub/jensbay_utilities/conegliano_utilities/workout.py:503\u001b[0m, in \u001b[0;36mload_exercise_data_from_github\u001b[0;34m(branch)\u001b[0m\n\u001b[1;32m    502\u001b[0m \u001b[38;5;28;01mif\u001b[39;00m \u001b[38;5;129;01mnot\u001b[39;00m \u001b[38;5;28mall\u001b[39m(col \u001b[38;5;129;01min\u001b[39;00m df\u001b[38;5;241m.\u001b[39mcolumns \u001b[38;5;28;01mfor\u001b[39;00m col \u001b[38;5;129;01min\u001b[39;00m required_cols):\n\u001b[0;32m--> 503\u001b[0m     \u001b[38;5;28;01mraise\u001b[39;00m \u001b[38;5;167;01mValueError\u001b[39;00m(\u001b[38;5;124mf\u001b[39m\u001b[38;5;124m\"\u001b[39m\u001b[38;5;124mData missing required columns: \u001b[39m\u001b[38;5;132;01m{\u001b[39;00mrequired_cols\u001b[38;5;132;01m}\u001b[39;00m\u001b[38;5;124m\"\u001b[39m)\n\u001b[1;32m    505\u001b[0m \u001b[38;5;28;01mreturn\u001b[39;00m df\n",
      "\u001b[0;31mValueError\u001b[0m: Data missing required columns: ['exercise', 'area', 'diffucility']",
      "\nDuring handling of the above exception, another exception occurred:\n",
      "\u001b[0;31mConnectionError\u001b[0m                           Traceback (most recent call last)",
      "Cell \u001b[0;32mIn[2], line 1\u001b[0m\n\u001b[0;32m----> 1\u001b[0m \u001b[43mworkout\u001b[49m\u001b[38;5;241;43m.\u001b[39;49m\u001b[43mload_exercise_data_from_github\u001b[49m\u001b[43m(\u001b[49m\u001b[43m)\u001b[49m\n",
      "File \u001b[0;32m~/Dropbox/#1 Files/Life/GitHub/jensbay_utilities/conegliano_utilities/workout.py:508\u001b[0m, in \u001b[0;36mload_exercise_data_from_github\u001b[0;34m(branch)\u001b[0m\n\u001b[1;32m    505\u001b[0m     \u001b[38;5;28;01mreturn\u001b[39;00m df\n\u001b[1;32m    507\u001b[0m \u001b[38;5;28;01mexcept\u001b[39;00m \u001b[38;5;167;01mException\u001b[39;00m \u001b[38;5;28;01mas\u001b[39;00m e:\n\u001b[0;32m--> 508\u001b[0m     \u001b[38;5;28;01mraise\u001b[39;00m \u001b[38;5;167;01mConnectionError\u001b[39;00m(\u001b[38;5;124mf\u001b[39m\u001b[38;5;124m\"\u001b[39m\u001b[38;5;124mFailed to load exercise data from GitHub: \u001b[39m\u001b[38;5;132;01m{\u001b[39;00m\u001b[38;5;28mstr\u001b[39m(e)\u001b[38;5;132;01m}\u001b[39;00m\u001b[38;5;124m\"\u001b[39m)\n",
      "\u001b[0;31mConnectionError\u001b[0m: Failed to load exercise data from GitHub: Data missing required columns: ['exercise', 'area', 'diffucility']"
     ]
    }
   ],
   "source": []
  },
  {
   "cell_type": "code",
   "execution_count": null,
   "id": "ce6848c6",
   "metadata": {},
   "outputs": [],
   "source": "# Test the new detailed workout functionality\nfrom conegliano_utilities import workout\nimport pandas as pd\n\n# Load exercise data\ndf = workout.load_exercise_data_from_github()\n\n# Example 1: Create detailed workout configurations\nfrom conegliano_utilities.workout import create_day_config, create_detailed_workout_from_dataframe\n\n# Day 1: Custom allocation - more upper body focus\nday1_config = create_day_config(\n    difficulty=3, \n    allocations={'Upper': 4, 'Legs': 2, 'Abs': 3}\n)\n\n# Day 2: Auto-allocation with specified total exercises\nday2_config = create_day_config(\n    difficulty=4, \n    total_exercises=12, \n    more_abs=True\n)\n\n# Day 3: Area coverage method with high difficulty\nday3_config = create_day_config(\n    difficulty=5, \n    use_area_coverage=True\n)\n\n# Create detailed workout plan\ndetailed_configs = [day1_config, day2_config, day3_config]\ndetailed_workout = create_detailed_workout_from_dataframe(df, detailed_configs)\nprint(\"Detailed workout plan:\")\nprint(detailed_workout)"
  },
  {
   "cell_type": "code",
   "id": "l5lbr3v5yf",
   "source": "# Example 2: GitHub-based detailed workout\nfrom conegliano_utilities.workout import create_detailed_workout_from_github\n\n# Focus on abs and cardio\nabs_focus_config = create_day_config(\n    difficulty=3,\n    allocations={'Upper': 2, 'Legs': 2, 'Abs': 6, 'Cardio': 2}\n)\n\n# Balanced moderate workout\nbalanced_config = create_day_config(\n    difficulty=4,\n    total_exercises=10,\n    more_abs=False\n)\n\n# High intensity with area coverage\nintense_config = create_day_config(\n    difficulty=5,\n    use_area_coverage=True\n)\n\n# Create workout from GitHub data\ngithub_configs = [abs_focus_config, balanced_config, intense_config]\ngithub_workout = create_detailed_workout_from_github(github_configs)\nprint(\"\\\\nGitHub-based detailed workout:\")\nprint(github_workout)\n\n# Show available exercise areas\nprint(\"\\\\nAvailable exercise areas:\")\ngenerator = workout.WorkoutGenerator(df)\nprint(generator.get_area_summary())",
   "metadata": {},
   "execution_count": null,
   "outputs": []
  }
 ],
 "metadata": {
  "kernelspec": {
   "display_name": "Python 3",
   "language": "python",
   "name": "python3"
  },
  "language_info": {
   "codemirror_mode": {
    "name": "ipython",
    "version": 3
   },
   "file_extension": ".py",
   "mimetype": "text/x-python",
   "name": "python",
   "nbconvert_exporter": "python",
   "pygments_lexer": "ipython3",
   "version": "3.12.1"
  }
 },
 "nbformat": 4,
 "nbformat_minor": 5
}
