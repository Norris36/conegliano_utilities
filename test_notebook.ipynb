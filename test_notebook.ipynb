{
 "cells": [
  {
   "cell_type": "code",
   "id": "9p4rambryli",
   "source": "# Additional tests for file_sizes with error handling\nfrom conegliano_utilities.core import get_filesize_dataframe\n\n# Test with a smaller directory\ntest_small_folder = \"/Users/jensbay/Dropbox/#1 Files/Life/GitHub/jensbay_utilities\"\nsmall_df = get_filesize_dataframe(test_small_folder)\nprint(\"Jensbay utilities folder analysis:\")\nprint(small_df)\n\n# Test error handling with invalid path\ntry:\n    invalid_df = get_filesize_dataframe(\"/invalid/path/that/does/not/exist\")\nexcept ValueError as e:\n    print(f\"\\nError handling test passed: {e}\")\n\n# Show specific folder details\nprint(f\"\\nTotal folders analyzed: {len(small_df)}\")\nprint(f\"Largest folder: {small_df.iloc[0]['basename']} ({small_df.iloc[0]['size (GB)']} GB)\")\nprint(f\"Total size of all subfolders: {small_df['size (GB)'].sum():.2f} GB\")",
   "metadata": {},
   "execution_count": null,
   "outputs": []
  },
  {
   "cell_type": "code",
   "id": "q08jtnarkd",
   "source": "# Test the new file_sizes functionality\nfrom conegliano_utilities import core\nimport pandas as pd\n\n# Test get_folder_sizes function\ntest_folder = \"/Users/jensbay/Dropbox/#1 Files/Life/GitHub\"\nfolder_sizes = core.get_folder_sizes(test_folder)\nprint(\"Folder sizes (raw dict):\")\nprint(folder_sizes)\n\n# Test create_dataframe_from_folder_sizes function\ndf_sizes = core.create_dataframe_from_folder_sizes(folder_sizes)\nprint(\"\\nFolder sizes DataFrame:\")\nprint(df_sizes)\n\n# Test the main get_filesize_dataframe function\nmain_df = core.get_filesize_dataframe(test_folder)\nprint(\"\\nMain filesize analysis:\")\nprint(main_df)",
   "metadata": {},
   "execution_count": null,
   "outputs": []
  },
  {
   "cell_type": "code",
   "execution_count": 3,
   "id": "e4b90d72",
   "metadata": {},
   "outputs": [
    {
     "name": "stderr",
     "output_type": "stream",
     "text": [
      "/Library/Frameworks/Python.framework/Versions/3.12/lib/python3.12/site-packages/urllib3/connectionpool.py:1099: InsecureRequestWarning: Unverified HTTPS request is being made to host 'raw.githubusercontent.com'. Adding certificate verification is strongly advised. See: https://urllib3.readthedocs.io/en/latest/advanced-usage.html#tls-warnings\n",
      "  warnings.warn(\n"
     ]
    }
   ],
   "source": [
    "from conegliano_utilities import workout\n",
    "import pandas as pd\n",
    "df = workout.load_exercise_data_from_github()\n",
    "\n",
    "#workout.create_workout_from_dataframe(df, )"
   ]
  },
  {
   "cell_type": "code",
   "execution_count": 4,
   "id": "aaf008a5",
   "metadata": {},
   "outputs": [
    {
     "data": {
      "text/html": [
       "<div>\n",
       "<style scoped>\n",
       "    .dataframe tbody tr th:only-of-type {\n",
       "        vertical-align: middle;\n",
       "    }\n",
       "\n",
       "    .dataframe tbody tr th {\n",
       "        vertical-align: top;\n",
       "    }\n",
       "\n",
       "    .dataframe thead th {\n",
       "        text-align: right;\n",
       "    }\n",
       "</style>\n",
       "<table border=\"1\" class=\"dataframe\">\n",
       "  <thead>\n",
       "    <tr style=\"text-align: right;\">\n",
       "      <th></th>\n",
       "      <th>exercise</th>\n",
       "      <th>area</th>\n",
       "      <th>diffucility</th>\n",
       "    </tr>\n",
       "  </thead>\n",
       "  <tbody>\n",
       "    <tr>\n",
       "      <th>0</th>\n",
       "      <td>Superman x Lateral Pulls</td>\n",
       "      <td>Back</td>\n",
       "      <td>4</td>\n",
       "    </tr>\n",
       "    <tr>\n",
       "      <th>1</th>\n",
       "      <td>Reverse Plank to Push-Up</td>\n",
       "      <td>Cardio</td>\n",
       "      <td>3</td>\n",
       "    </tr>\n",
       "    <tr>\n",
       "      <th>2</th>\n",
       "      <td>Single-Leg Glute Bridge</td>\n",
       "      <td>Legs</td>\n",
       "      <td>4</td>\n",
       "    </tr>\n",
       "    <tr>\n",
       "      <th>3</th>\n",
       "      <td>Eccentric Pistol Squats</td>\n",
       "      <td>Legs</td>\n",
       "      <td>3</td>\n",
       "    </tr>\n",
       "    <tr>\n",
       "      <th>4</th>\n",
       "      <td>Side Plank x Rotation</td>\n",
       "      <td>Abs</td>\n",
       "      <td>3</td>\n",
       "    </tr>\n",
       "    <tr>\n",
       "      <th>...</th>\n",
       "      <td>...</td>\n",
       "      <td>...</td>\n",
       "      <td>...</td>\n",
       "    </tr>\n",
       "    <tr>\n",
       "      <th>86</th>\n",
       "      <td>Squats</td>\n",
       "      <td>Legs</td>\n",
       "      <td>3</td>\n",
       "    </tr>\n",
       "    <tr>\n",
       "      <th>87</th>\n",
       "      <td>Lunges</td>\n",
       "      <td>Legs</td>\n",
       "      <td>3</td>\n",
       "    </tr>\n",
       "    <tr>\n",
       "      <th>88</th>\n",
       "      <td>Plank</td>\n",
       "      <td>Abs</td>\n",
       "      <td>1</td>\n",
       "    </tr>\n",
       "    <tr>\n",
       "      <th>89</th>\n",
       "      <td>V-Ups</td>\n",
       "      <td>Abs</td>\n",
       "      <td>5</td>\n",
       "    </tr>\n",
       "    <tr>\n",
       "      <th>90</th>\n",
       "      <td>Burpee</td>\n",
       "      <td>Cardio</td>\n",
       "      <td>5</td>\n",
       "    </tr>\n",
       "  </tbody>\n",
       "</table>\n",
       "<p>91 rows × 3 columns</p>\n",
       "</div>"
      ],
      "text/plain": [
       "                    exercise    area  diffucility\n",
       "0   Superman x Lateral Pulls    Back            4\n",
       "1   Reverse Plank to Push-Up  Cardio            3\n",
       "2    Single-Leg Glute Bridge    Legs            4\n",
       "3    Eccentric Pistol Squats    Legs            3\n",
       "4      Side Plank x Rotation     Abs            3\n",
       "..                       ...     ...          ...\n",
       "86                    Squats    Legs            3\n",
       "87                    Lunges    Legs            3\n",
       "88                     Plank     Abs            1\n",
       "89                     V-Ups     Abs            5\n",
       "90                    Burpee  Cardio            5\n",
       "\n",
       "[91 rows x 3 columns]"
      ]
     },
     "execution_count": 4,
     "metadata": {},
     "output_type": "execute_result"
    }
   ],
   "source": [
    "df"
   ]
  },
  {
   "cell_type": "code",
   "execution_count": 12,
   "id": "b40f2585",
   "metadata": {},
   "outputs": [
    {
     "name": "stderr",
     "output_type": "stream",
     "text": [
      "Python(73088) MallocStackLogging: can't turn off malloc stack logging because it was not enabled.\n"
     ]
    }
   ],
   "source": [
    "df = pd.read_clipboard()"
   ]
  },
  {
   "cell_type": "code",
   "execution_count": 15,
   "id": "e69fcde1",
   "metadata": {},
   "outputs": [],
   "source": [
    "df.rename(columns = {'Navn':'name', 'Område':'area', 'Sværhedsgrad': 'diffucility'}, inplace=True)"
   ]
  },
  {
   "cell_type": "code",
   "execution_count": 16,
   "id": "bc21b790",
   "metadata": {},
   "outputs": [],
   "source": [
    "df.to_csv('/Users/jensbay/Dropbox/#1 Files/Life/GitHub/jensbay_utilities/data/workout_data.csv', index = False)"
   ]
  },
  {
   "cell_type": "code",
   "execution_count": null,
   "id": "cf4fbfb1",
   "metadata": {},
   "outputs": [
    {
     "name": "stderr",
     "output_type": "stream",
     "text": [
      "/Library/Frameworks/Python.framework/Versions/3.12/lib/python3.12/site-packages/urllib3/connectionpool.py:1099: InsecureRequestWarning: Unverified HTTPS request is being made to host 'raw.githubusercontent.com'. Adding certificate verification is strongly advised. See: https://urllib3.readthedocs.io/en/latest/advanced-usage.html#tls-warnings\n",
      "  warnings.warn(\n"
     ]
    },
    {
     "ename": "ConnectionError",
     "evalue": "Failed to load exercise data from GitHub: Data missing required columns: ['exercise', 'area', 'diffucility']",
     "output_type": "error",
     "traceback": [
      "\u001b[0;31m---------------------------------------------------------------------------\u001b[0m",
      "\u001b[0;31mValueError\u001b[0m                                Traceback (most recent call last)",
      "File \u001b[0;32m~/Dropbox/#1 Files/Life/GitHub/jensbay_utilities/conegliano_utilities/workout.py:503\u001b[0m, in \u001b[0;36mload_exercise_data_from_github\u001b[0;34m(branch)\u001b[0m\n\u001b[1;32m    502\u001b[0m \u001b[38;5;28;01mif\u001b[39;00m \u001b[38;5;129;01mnot\u001b[39;00m \u001b[38;5;28mall\u001b[39m(col \u001b[38;5;129;01min\u001b[39;00m df\u001b[38;5;241m.\u001b[39mcolumns \u001b[38;5;28;01mfor\u001b[39;00m col \u001b[38;5;129;01min\u001b[39;00m required_cols):\n\u001b[0;32m--> 503\u001b[0m     \u001b[38;5;28;01mraise\u001b[39;00m \u001b[38;5;167;01mValueError\u001b[39;00m(\u001b[38;5;124mf\u001b[39m\u001b[38;5;124m\"\u001b[39m\u001b[38;5;124mData missing required columns: \u001b[39m\u001b[38;5;132;01m{\u001b[39;00mrequired_cols\u001b[38;5;132;01m}\u001b[39;00m\u001b[38;5;124m\"\u001b[39m)\n\u001b[1;32m    505\u001b[0m \u001b[38;5;28;01mreturn\u001b[39;00m df\n",
      "\u001b[0;31mValueError\u001b[0m: Data missing required columns: ['exercise', 'area', 'diffucility']",
      "\nDuring handling of the above exception, another exception occurred:\n",
      "\u001b[0;31mConnectionError\u001b[0m                           Traceback (most recent call last)",
      "Cell \u001b[0;32mIn[2], line 1\u001b[0m\n\u001b[0;32m----> 1\u001b[0m \u001b[43mworkout\u001b[49m\u001b[38;5;241;43m.\u001b[39;49m\u001b[43mload_exercise_data_from_github\u001b[49m\u001b[43m(\u001b[49m\u001b[43m)\u001b[49m\n",
      "File \u001b[0;32m~/Dropbox/#1 Files/Life/GitHub/jensbay_utilities/conegliano_utilities/workout.py:508\u001b[0m, in \u001b[0;36mload_exercise_data_from_github\u001b[0;34m(branch)\u001b[0m\n\u001b[1;32m    505\u001b[0m     \u001b[38;5;28;01mreturn\u001b[39;00m df\n\u001b[1;32m    507\u001b[0m \u001b[38;5;28;01mexcept\u001b[39;00m \u001b[38;5;167;01mException\u001b[39;00m \u001b[38;5;28;01mas\u001b[39;00m e:\n\u001b[0;32m--> 508\u001b[0m     \u001b[38;5;28;01mraise\u001b[39;00m \u001b[38;5;167;01mConnectionError\u001b[39;00m(\u001b[38;5;124mf\u001b[39m\u001b[38;5;124m\"\u001b[39m\u001b[38;5;124mFailed to load exercise data from GitHub: \u001b[39m\u001b[38;5;132;01m{\u001b[39;00m\u001b[38;5;28mstr\u001b[39m(e)\u001b[38;5;132;01m}\u001b[39;00m\u001b[38;5;124m\"\u001b[39m)\n",
      "\u001b[0;31mConnectionError\u001b[0m: Failed to load exercise data from GitHub: Data missing required columns: ['exercise', 'area', 'diffucility']"
     ]
    }
   ],
   "source": []
  },
  {
   "cell_type": "code",
   "execution_count": 8,
   "id": "ce6848c6",
   "metadata": {},
   "outputs": [
    {
     "name": "stdout",
     "output_type": "stream",
     "text": [
      "Detailed workout plan:\n"
     ]
    },
    {
     "name": "stderr",
     "output_type": "stream",
     "text": [
      "/Library/Frameworks/Python.framework/Versions/3.12/lib/python3.12/site-packages/urllib3/connectionpool.py:1099: InsecureRequestWarning: Unverified HTTPS request is being made to host 'raw.githubusercontent.com'. Adding certificate verification is strongly advised. See: https://urllib3.readthedocs.io/en/latest/advanced-usage.html#tls-warnings\n",
      "  warnings.warn(\n"
     ]
    }
   ],
   "source": [
    "# Test the new detailed workout functionality\n",
    "from conegliano_utilities import workout\n",
    "import pandas as pd\n",
    "\n",
    "# Load exercise data\n",
    "df = workout.load_exercise_data_from_github()\n",
    "\n",
    "# Example 1: Create detailed workout configurations\n",
    "from conegliano_utilities.workout import create_day_config, create_detailed_workout_from_dataframe\n",
    "\n",
    "# Day 1: Custom allocation - more upper body focus\n",
    "# day1_config = create_day_config(\n",
    "#     difficulty=3, \n",
    "#     allocations={'Upper': 4, 'Legs': 2, 'Abs': 3}\n",
    "# )\n",
    "\n",
    "# Day 2: Auto-allocation with specified total exercises\n",
    "day2_config = create_day_config(\n",
    "    difficulty=4, \n",
    "    total_exercises=6, \n",
    "    more_abs=True\n",
    ")\n",
    "\n",
    "# Day 3: Area coverage method with high difficulty\n",
    "day3_config = create_day_config(\n",
    "    difficulty=5, \n",
    "    use_area_coverage=True\n",
    ")\n",
    "\n",
    "# Create detailed workout plan\n",
    "detailed_configs = [day1_config, day2_config, day3_config]\n",
    "#detailed_workout = create_detailed_workout_from_dataframe(df, detailed_configs)\n",
    "print(\"Detailed workout plan:\")\n",
    "#print(detailed_workout)"
   ]
  },
  {
   "cell_type": "code",
   "execution_count": 10,
   "id": "bec6e5c1",
   "metadata": {},
   "outputs": [
    {
     "data": {
      "text/html": [
       "<div>\n",
       "<style scoped>\n",
       "    .dataframe tbody tr th:only-of-type {\n",
       "        vertical-align: middle;\n",
       "    }\n",
       "\n",
       "    .dataframe tbody tr th {\n",
       "        vertical-align: top;\n",
       "    }\n",
       "\n",
       "    .dataframe thead th {\n",
       "        text-align: right;\n",
       "    }\n",
       "</style>\n",
       "<table border=\"1\" class=\"dataframe\">\n",
       "  <thead>\n",
       "    <tr style=\"text-align: right;\">\n",
       "      <th></th>\n",
       "      <th>information</th>\n",
       "      <th>4</th>\n",
       "    </tr>\n",
       "  </thead>\n",
       "  <tbody>\n",
       "    <tr>\n",
       "      <th>0</th>\n",
       "      <td>mean</td>\n",
       "      <td>3.666667</td>\n",
       "    </tr>\n",
       "    <tr>\n",
       "      <th>1</th>\n",
       "      <td>Legs</td>\n",
       "      <td>Squat Jumps</td>\n",
       "    </tr>\n",
       "    <tr>\n",
       "      <th>2</th>\n",
       "      <td>Back</td>\n",
       "      <td>Back Widow</td>\n",
       "    </tr>\n",
       "    <tr>\n",
       "      <th>3</th>\n",
       "      <td>Abs</td>\n",
       "      <td>Dead Bug</td>\n",
       "    </tr>\n",
       "    <tr>\n",
       "      <th>4</th>\n",
       "      <td>Cardio</td>\n",
       "      <td>Plank x Knee to Elbow</td>\n",
       "    </tr>\n",
       "    <tr>\n",
       "      <th>5</th>\n",
       "      <td>Cardio</td>\n",
       "      <td>Plank to Push-Up</td>\n",
       "    </tr>\n",
       "    <tr>\n",
       "      <th>6</th>\n",
       "      <td>Upper</td>\n",
       "      <td>Diamond Push-Ups</td>\n",
       "    </tr>\n",
       "  </tbody>\n",
       "</table>\n",
       "</div>"
      ],
      "text/plain": [
       "  information                      4\n",
       "0        mean               3.666667\n",
       "1        Legs            Squat Jumps\n",
       "2        Back             Back Widow\n",
       "3         Abs               Dead Bug\n",
       "4      Cardio  Plank x Knee to Elbow\n",
       "5      Cardio       Plank to Push-Up\n",
       "6       Upper       Diamond Push-Ups"
      ]
     },
     "execution_count": 10,
     "metadata": {},
     "output_type": "execute_result"
    }
   ],
   "source": [
    "create_detailed_workout_from_dataframe(df, day_configs=[day2_config])"
   ]
  },
  {
   "cell_type": "code",
   "execution_count": 4,
   "id": "l5lbr3v5yf",
   "metadata": {},
   "outputs": [
    {
     "ename": "ImportError",
     "evalue": "cannot import name 'create_detailed_workout_from_github' from 'conegliano_utilities.workout' (/Users/jensbay/Dropbox/#1 Files/Life/GitHub/jensbay_utilities/conegliano_utilities/workout.py)",
     "output_type": "error",
     "traceback": [
      "\u001b[0;31m---------------------------------------------------------------------------\u001b[0m",
      "\u001b[0;31mImportError\u001b[0m                               Traceback (most recent call last)",
      "Cell \u001b[0;32mIn[4], line 2\u001b[0m\n\u001b[1;32m      1\u001b[0m \u001b[38;5;66;03m# Example 2: GitHub-based detailed workout\u001b[39;00m\n\u001b[0;32m----> 2\u001b[0m \u001b[38;5;28;01mfrom\u001b[39;00m \u001b[38;5;21;01mconegliano_utilities\u001b[39;00m\u001b[38;5;21;01m.\u001b[39;00m\u001b[38;5;21;01mworkout\u001b[39;00m \u001b[38;5;28;01mimport\u001b[39;00m create_detailed_workout_from_github\n\u001b[1;32m      4\u001b[0m \u001b[38;5;66;03m# Focus on abs and cardio\u001b[39;00m\n\u001b[1;32m      5\u001b[0m abs_focus_config \u001b[38;5;241m=\u001b[39m create_day_config(\n\u001b[1;32m      6\u001b[0m     difficulty\u001b[38;5;241m=\u001b[39m\u001b[38;5;241m3\u001b[39m,\n\u001b[1;32m      7\u001b[0m     allocations\u001b[38;5;241m=\u001b[39m{\u001b[38;5;124m'\u001b[39m\u001b[38;5;124mUpper\u001b[39m\u001b[38;5;124m'\u001b[39m: \u001b[38;5;241m2\u001b[39m, \u001b[38;5;124m'\u001b[39m\u001b[38;5;124mLegs\u001b[39m\u001b[38;5;124m'\u001b[39m: \u001b[38;5;241m2\u001b[39m, \u001b[38;5;124m'\u001b[39m\u001b[38;5;124mAbs\u001b[39m\u001b[38;5;124m'\u001b[39m: \u001b[38;5;241m6\u001b[39m, \u001b[38;5;124m'\u001b[39m\u001b[38;5;124mCardio\u001b[39m\u001b[38;5;124m'\u001b[39m: \u001b[38;5;241m2\u001b[39m}\n\u001b[1;32m      8\u001b[0m )\n",
      "\u001b[0;31mImportError\u001b[0m: cannot import name 'create_detailed_workout_from_github' from 'conegliano_utilities.workout' (/Users/jensbay/Dropbox/#1 Files/Life/GitHub/jensbay_utilities/conegliano_utilities/workout.py)"
     ]
    }
   ],
   "source": [
    "# Example 2: GitHub-based detailed workout\n",
    "from conegliano_utilities.workout import create_detailed_workout_from_github\n",
    "\n",
    "# Focus on abs and cardio\n",
    "abs_focus_config = create_day_config(\n",
    "    difficulty=3,\n",
    "    allocations={'Upper': 2, 'Legs': 2, 'Abs': 6, 'Cardio': 2}\n",
    ")\n",
    "\n",
    "# Balanced moderate workout\n",
    "balanced_config = create_day_config(\n",
    "    difficulty=4,\n",
    "    total_exercises=10,\n",
    "    more_abs=False\n",
    ")\n",
    "\n",
    "# High intensity with area coverage\n",
    "intense_config = create_day_config(\n",
    "    difficulty=5,\n",
    "    use_area_coverage=True\n",
    ")\n",
    "\n",
    "# Create workout from GitHub data\n",
    "github_configs = [abs_focus_config, balanced_config, intense_config]\n",
    "github_workout = create_detailed_workout_from_github(github_configs)\n",
    "print(\"\\\\nGitHub-based detailed workout:\")\n",
    "print(github_workout)\n",
    "\n",
    "# Show available exercise areas\n",
    "print(\"\\\\nAvailable exercise areas:\")\n",
    "generator = workout.WorkoutGenerator(df)\n",
    "print(generator.get_area_summary())"
   ]
  },
  {
   "cell_type": "code",
   "execution_count": null,
   "id": "cd323e9d",
   "metadata": {},
   "outputs": [],
   "source": "# Test the new Issue Logger functionality\nfrom conegliano_utilities import issue_logger\nimport os\n\n# Example 1: Quick issue creation\nprint(\"=== Testing Quick Issue Creation ===\")\n# This would create a simple issue (commented out to avoid spam)\n# issue_logger.quick_issue(\n#     title=\"Test issue from notebook\", \n#     description=\"Testing the quick_issue function from the test notebook\"\n# )\n\n# Example 2: System information formatting\nprint(\"\\\\n=== Testing System Information ===\")\nsystem_info = issue_logger.format_system_info()\nprint(\"System info (first 500 chars):\")\nprint(system_info[:500] + \"...\" if len(system_info) > 500 else system_info)\n\n# Example 3: Stack trace formatting (simulate an error)\nprint(\"\\\\n=== Testing Stack Trace Formatting ===\")\ntry:\n    # Create a deliberate error for testing\n    result = 1 / 0\nexcept ZeroDivisionError as e:\n    stack_trace = issue_logger.format_stack_trace(e)\n    print(\"Stack trace (first 300 chars):\")\n    print(stack_trace[:300] + \"...\" if len(stack_trace) > 300 else stack_trace)\n\n# Example 4: Debug issue creation (commented to avoid creating real issues)\nprint(\"\\\\n=== Testing Debug Issue Creation (Dry Run) ===\")\ntry:\n    # Simulate error that would trigger issue creation\n    raise ValueError(\"This is a test error for debugging\")\nexcept ValueError as e:\n    print(f\"Caught error: {e}\")\n    print(\"In real scenario, this would create a comprehensive GitHub issue with:\")\n    print(\"- Error details and stack trace\")\n    print(\"- System information\")\n    print(\"- Additional context\")\n    # Uncomment below to actually create issue:\n    # result = issue_logger.create_debug_issue(\n    #     title=\"Test debug issue from notebook\",\n    #     description=\"Testing the debug issue creation functionality\",\n    #     exception=e\n    # )\n\nprint(\"\\\\n=== Issue Logger Functions Available ===\")\navailable_functions = [\n    \"create_github_issue\", \"create_debug_issue\", \"log_error_and_create_issue\",\n    \"quick_issue\", \"format_system_info\", \"format_stack_trace\"\n]\nfor func in available_functions:\n    print(f\"✓ {func}\")\n\nprint(\"\\\\n📝 Note: To use these functions with real GitHub issues, set GITHUB_TOKEN environment variable\")\nprint(\"💡 Usage examples:\")\nprint(\"   - quick_issue('Bug title', 'Description') for simple issues\")\nprint(\"   - log_error_and_create_issue('Error title') when catching exceptions\")\nprint(\"   - create_debug_issue() for comprehensive debugging information\")"
  }
 ],
 "metadata": {
  "kernelspec": {
   "display_name": "Python 3",
   "language": "python",
   "name": "python3"
  },
  "language_info": {
   "codemirror_mode": {
    "name": "ipython",
    "version": 3
   },
   "file_extension": ".py",
   "mimetype": "text/x-python",
   "name": "python",
   "nbconvert_exporter": "python",
   "pygments_lexer": "ipython3",
   "version": "3.12.1"
  }
 },
 "nbformat": 4,
 "nbformat_minor": 5
}
